{
 "cells": [
  {
   "cell_type": "markdown",
   "metadata": {},
   "source": [
    "## Neural Networks with multiple layers from scratch"
   ]
  },
  {
   "cell_type": "code",
   "execution_count": 24,
   "metadata": {},
   "outputs": [
    {
     "name": "stdout",
     "output_type": "stream",
     "text": [
      "The autoreload extension is already loaded. To reload it, use:\n",
      "  %reload_ext autoreload\n"
     ]
    }
   ],
   "source": [
    "import numpy as np\n",
    "import matplotlib.pyplot as plt\n",
    "import h5py\n",
    "from my_utils import *\n",
    "%load_ext autoreload\n",
    "%autoreload 2\n",
    "np.random.seed(1)"
   ]
  },
  {
   "cell_type": "markdown",
   "metadata": {},
   "source": [
    "### Load the data"
   ]
  },
  {
   "cell_type": "code",
   "execution_count": 25,
   "metadata": {},
   "outputs": [],
   "source": [
    "def load_data():\n",
    "    train_dataset = h5py.File('datasets/train_catvnoncat.h5', \"r\")\n",
    "    train_set_x_orig = np.array(train_dataset[\"train_set_x\"][:]) # your train set features\n",
    "    train_set_y_orig = np.array(train_dataset[\"train_set_y\"][:]) # your train set labels\n",
    "\n",
    "    test_dataset = h5py.File('datasets/test_catvnoncat.h5', \"r\")\n",
    "    test_set_x_orig = np.array(test_dataset[\"test_set_x\"][:]) # your test set features\n",
    "    test_set_y_orig = np.array(test_dataset[\"test_set_y\"][:]) # your test set labels\n",
    "\n",
    "    classes = np.array(test_dataset[\"list_classes\"][:]) # the list of classes\n",
    "    \n",
    "    train_set_y_orig = train_set_y_orig.reshape((1, train_set_y_orig.shape[0]))\n",
    "    test_set_y_orig = test_set_y_orig.reshape((1, test_set_y_orig.shape[0]))\n",
    "    \n",
    "    return train_set_x_orig, train_set_y_orig, test_set_x_orig, test_set_y_orig, classes\n"
   ]
  },
  {
   "cell_type": "markdown",
   "metadata": {},
   "source": [
    "## Understand the data better\n",
    "We're gonna print out the shape of the data and trying to plot have deeper look in data."
   ]
  },
  {
   "cell_type": "code",
   "execution_count": 26,
   "metadata": {},
   "outputs": [
    {
     "name": "stdout",
     "output_type": "stream",
     "text": [
      "X Traning shape (209, 64, 64, 3)\n",
      "Y Traning shape (1, 209)\n",
      "X test shape (50, 64, 64, 3)\n",
      "Y test shape (1, 50)\n",
      "classes:  [b'non-cat' b'cat']\n"
     ]
    }
   ],
   "source": [
    "train_set_x_orig, y_train, test_set_x_orig, y_test, classes = load_data()\n",
    "print('X Traning shape', train_set_x_orig.shape)\n",
    "print('Y Traning shape', y_train.shape)\n",
    "print('X test shape', test_set_x_orig.shape)\n",
    "print('Y test shape', y_test.shape)\n",
    "# 0 is not a cat, 1 is a cat\n",
    "print('classes: ', classes)"
   ]
  },
  {
   "cell_type": "code",
   "execution_count": 27,
   "metadata": {},
   "outputs": [
    {
     "data": {
      "text/plain": [
       "<matplotlib.image.AxesImage at 0x1264deeb0>"
      ]
     },
     "execution_count": 27,
     "metadata": {},
     "output_type": "execute_result"
    },
    {
     "data": {
      "image/png": "[encoded data removed]",
      "text/plain": [
       "<Figure size 640x480 with 1 Axes>"
      ]
     },
     "metadata": {},
     "output_type": "display_data"
    }
   ],
   "source": [
    "plt.imshow(train_set_x_orig[7])"
   ]
  },
  {
   "cell_type": "markdown",
   "metadata": {},
   "source": [
    "We have m = `209` images, each image is `64x64` px. At each of a location of an image has `3` values (each value range from `0-255`) which stand for 3 channels of `RGB` color.\n",
    "\n",
    "train_set_x_orig has shape of `(209, 64, 64, 3)`\n",
    "\n",
    "We're going to reshape the image to only have 2 dimensions `(64x64x3, 209)`.\n",
    "\n",
    "First we use `train_set_x_orig.reshape(m, -1)` so that it automatically reshape to `(m, 64x64x3)` which it should keep everything in order then reshape it to `(64x64x3, m)`."
   ]
  },
  {
   "cell_type": "code",
   "execution_count": 28,
   "metadata": {},
   "outputs": [
    {
     "name": "stdout",
     "output_type": "stream",
     "text": [
      "X_train.shape (12288, 209)\n",
      "X_test.shape (12288, 50)\n",
      "First training example [0.06666667 0.12156863 0.21960784 ... 0.         0.         0.        ]\n"
     ]
    }
   ],
   "source": [
    "# Get the number of training sample\n",
    "m_train = train_set_x_orig.shape[0]\n",
    "num_px = train_set_x_orig.shape[1]\n",
    "m_test = test_set_x_orig.shape[0]\n",
    "\n",
    "# Reshape the data\n",
    "X_train = train_set_x_orig.reshape(m_train, -1).T\n",
    "X_test = test_set_x_orig.reshape(m_test, -1).T\n",
    "\n",
    "# Standardize data to have feature values between 0 and 1.\n",
    "X_train = X_train/255.\n",
    "X_test = X_test/255.\n",
    "\n",
    "\n",
    "print('X_train.shape', X_train.shape)\n",
    "print('X_test.shape', X_test.shape)\n",
    "print('First training example', X_train[:, 0])"
   ]
  },
  {
   "cell_type": "code",
   "execution_count": 29,
   "metadata": {},
   "outputs": [],
   "source": [
    "# fake data with 4 features and 5 samples\n",
    "X_for_test = np.array([\n",
    "    [1.50, -0.20, 0.90, 0.30, -1.0],\n",
    "    [2.10, 0.60, -1.20, 0.50, 1.5],\n",
    "    [-0.50, 0.40, 1.70, -0.10, -2.0],\n",
    "    [0.80, 0.10, -0.70, -1.50, 0.5]\n",
    "])\n",
    "Y_for_test = np.array([1, 0, 1, 1, 0]).reshape(1, -1)\n",
    "\n",
    "W_for_test = np.random.randn(4, 4) * 0.01\n",
    "b_for_test = np.random.randn(4, 1)"
   ]
  },
  {
   "cell_type": "markdown",
   "metadata": {},
   "source": [
    "## Initializing parameters (W, b)\n",
    "This function going to use `np.random.randn` and `np.zeros` to generate W and b respectively for every layer in Neural Networks. \n",
    "\n",
    "We are going to multiply W by 0.1 elementwise to make W small, because we're to use sigmoid function at the end for binary classification which could make the the training process slow if the number is too big."
   ]
  },
  {
   "cell_type": "code",
   "execution_count": 30,
   "metadata": {},
   "outputs": [],
   "source": [
    "def initialize_parameters(layers_dims: list or np.ndarray): \n",
    "    parameters = {}\n",
    "    np.random.seed(1)\n",
    "    L = len(layers_dims)\n",
    "    for l in range(1, L) : \n",
    "        # This way of initialization takes many more iterations to converge\n",
    "        # parameters[f'W{l}'] = np.random.randn(layers_dims[l], layers_dims[l-1])  * 0.1\n",
    "        # This way of initialization takes fewer iterations to converge\n",
    "        parameters['W' + str(l)] = np.random.randn(layers_dims[l], layers_dims[l-1]) / np.sqrt(layers_dims[l-1])\n",
    "        parameters[f'b{l}'] = np.zeros(shape=(layers_dims[l], 1))\n",
    "    return parameters\n",
    "    "
   ]
  },
  {
   "cell_type": "code",
   "execution_count": 31,
   "metadata": {},
   "outputs": [
    {
     "name": "stdout",
     "output_type": "stream",
     "text": [
      "[[ 0.81217268 -0.30587821 -0.26408588 -0.53648431]\n",
      " [ 0.43270381 -1.15076935  0.87240588 -0.38060345]\n",
      " [ 0.15951955 -0.12468519  0.73105397 -1.03007035]]\n"
     ]
    }
   ],
   "source": [
    "# Test initialize_parameters\n",
    "parameters_for_test = initialize_parameters([4,  3, 12, 8, 2, 4, 1])\n",
    "\n",
    "print(parameters_for_test['W1'])"
   ]
  },
  {
   "cell_type": "markdown",
   "metadata": {},
   "source": [
    "## Forward propagation"
   ]
  },
  {
   "cell_type": "code",
   "execution_count": 32,
   "metadata": {},
   "outputs": [],
   "source": [
    "def linear_forward(A_prev, W, b): \n",
    "    '''\n",
    "    A_prev (ndarray, (n_A_prev_units, m)  )\n",
    "    W (ndarray,(current_n_units, prev_n_units))\n",
    "    b (ndarray, (current_n_units, 1))\n",
    "    '''\n",
    "    Z = np.dot(W, A_prev) + b\n",
    "    cache = (A_prev, W, b)\n",
    "    return Z, cache"
   ]
  },
  {
   "cell_type": "code",
   "execution_count": 33,
   "metadata": {},
   "outputs": [
    {
     "name": "stdout",
     "output_type": "stream",
     "text": [
      "[[-0.17242821]\n",
      " [-0.87785842]\n",
      " [ 0.04221375]\n",
      " [ 0.58281521]]\n"
     ]
    }
   ],
   "source": [
    "def linear_forward_activation(A_prev, W, b, activation='relu'): \n",
    "    '''\n",
    "    A_prev (ndarray, (n_A_prev_units, m)  )\n",
    "    W (ndarray,(current_n_units, prev_n_units))\n",
    "    b (ndarray, (current_n_units, 1))\n",
    "    '''\n",
    "    Z, linear_cache = linear_forward(A_prev, W, b)\n",
    "    if activation == 'relu':\n",
    "        A = relu(Z)\n",
    "    elif activation == 'sigmoid': \n",
    "        A = sigmoid(Z)        \n",
    "        \n",
    "    activation_cache = Z\n",
    "    return A, (linear_cache, activation_cache)\n",
    "        \n",
    "A_for_test, cache = linear_forward_activation(X_for_test, W_for_test, b_for_test, activation='sigmoid')\n",
    "print(cache[0][2])\n"
   ]
  },
  {
   "cell_type": "code",
   "execution_count": 34,
   "metadata": {},
   "outputs": [],
   "source": [
    "def L_model_forward(X: np.ndarray, parameters: dict): \n",
    "    '''\n",
    "    parameters (dictionary): contains weights and bias for examples {W1: ..., b1: ..., ...}\n",
    "    X (ndarray, (n_features, m)): training data\n",
    "    '''\n",
    "    L = len(parameters)//2 # since each layer has its W and b\n",
    "    A = X\n",
    "    caches = []\n",
    "    for l in range(1, L): \n",
    "        A_prev = A\n",
    "        A, cache = linear_forward_activation(A_prev, parameters[f'W{l}'], parameters[f'b{l}'])\n",
    "        caches.append(cache)\n",
    "        \n",
    "    AL, cache = linear_forward_activation(A, parameters[f'W{L}'], parameters[f'b{L}'], activation='sigmoid')\n",
    "    caches.append(cache)\n",
    "    return AL, caches\n",
    "\n",
    "A_for_test, caches = L_model_forward(X_for_test, parameters_for_test)"
   ]
  },
  {
   "cell_type": "code",
   "execution_count": 35,
   "metadata": {},
   "outputs": [
    {
     "name": "stdout",
     "output_type": "stream",
     "text": [
      "[[0.5        0.5014019  0.51192638 0.5134527  0.5       ]]\n"
     ]
    }
   ],
   "source": [
    "print(A_for_test)"
   ]
  },
  {
   "cell_type": "code",
   "execution_count": 36,
   "metadata": {},
   "outputs": [
    {
     "name": "stdout",
     "output_type": "stream",
     "text": [
      "0.6836842190849293\n"
     ]
    }
   ],
   "source": [
    "def compute_cost(AL: np.ndarray, Y: np.ndarray):\n",
    "    '''\n",
    "    AL (ndarray, (1, m)): output of activation of the last layer (sigmoid activation func)\n",
    "    Y (ndarray, (1, m)): ground true label\n",
    "    '''\n",
    "    m = Y.shape[1]\n",
    "    sum_cost = np.dot(Y, np.log(AL).T) + np.dot(1-Y, np.log(1-AL).T)\n",
    "    cost = -sum_cost/m\n",
    "    cost = np.squeeze(cost)\n",
    "    return cost\n",
    "\n",
    "cost_for_test = compute_cost(A_for_test, Y_for_test)\n",
    "print(cost_for_test)\n"
   ]
  },
  {
   "cell_type": "markdown",
   "metadata": {},
   "source": [
    "## Backward propagation"
   ]
  },
  {
   "cell_type": "code",
   "execution_count": 37,
   "metadata": {},
   "outputs": [],
   "source": [
    "def linear_backward(dZ, cache: tuple): \n",
    "    A_prev, W, b = cache\n",
    "    m = A_prev.shape[1]\n",
    "    db = np.sum(dZ, axis=1, keepdims=True)/m\n",
    "    dW = np.dot(dZ, A_prev.T)/m\n",
    "    dA_prev = np.dot(W.T, dZ) # to achieve shape (u1, m)\n",
    "    return dA_prev, dW, db"
   ]
  },
  {
   "cell_type": "code",
   "execution_count": 38,
   "metadata": {},
   "outputs": [],
   "source": [
    "def linear_backward_activation(dA, cache: tuple, activation):\n",
    "    linear_cache, activation_cache = cache\n",
    "    if activation == 'relu': \n",
    "        dZ = d_relu(dA, activation_cache)\n",
    "        dA_prev, dW, db = linear_backward(dZ, linear_cache)\n",
    "    elif activation == 'sigmoid': \n",
    "        dZ = d_sigmoid(dA, activation_cache)\n",
    "        dA_prev, dW, db = linear_backward(dZ, linear_cache)\n",
    "    return dA_prev, dW, db\n",
    "    "
   ]
  },
  {
   "cell_type": "code",
   "execution_count": 39,
   "metadata": {},
   "outputs": [],
   "source": [
    "def L_model_backward(AL: np.ndarray, Y: np.ndarray, caches: list): \n",
    "    '''\n",
    "    caches (list [(linear_cache, activation_cache), ...])\n",
    "    AL (ndarray, (1, m))\n",
    "    Y (ndarray, (1, m))\n",
    "    '''\n",
    "    grads = {}\n",
    "    L = len(caches)\n",
    "    current_cache = caches[L - 1]\n",
    "    # print('current_cache', len(current_cache))\n",
    "    # print('current_cache', len(current_cache[0]))\n",
    "    # print('current_cache', len(current_cache[1]))\n",
    "    dAL = -np.divide(Y, AL) + np.divide(1-Y, 1-AL)\n",
    "    dA_prev_temp, dW_temp, db_temp = linear_backward_activation(dAL, cache=current_cache, activation='sigmoid')\n",
    "    grads[f'dA{L-1}'] = dA_prev_temp\n",
    "    grads[f'dW{L}'] = dW_temp\n",
    "    grads[f'db{L}'] = db_temp\n",
    "    \n",
    "    for l in reversed(range(0, L-1)): \n",
    "        current_cache = caches[l]\n",
    "        dA_prev_temp, dW_temp, db_temp = linear_backward_activation(dA_prev_temp, current_cache, activation='relu')\n",
    "        grads[f'dA{l}'] = dA_prev_temp\n",
    "        grads[f'dW{l+1}'] = dW_temp\n",
    "        grads[f'db{l+1}'] = db_temp\n",
    "    \n",
    "    \n",
    "    \n",
    "    return grads"
   ]
  },
  {
   "cell_type": "code",
   "execution_count": 40,
   "metadata": {},
   "outputs": [],
   "source": [
    "def update_parameters(parameters: dict, grads:dict, learning_rate=0.0075): \n",
    "    L = len(parameters)//2\n",
    "    for l in range(L):\n",
    "        parameters[\"W\" + str(l+1)] = parameters[\"W\" + str(l + 1)] - learning_rate*grads[\"dW\" + str(l + 1)]\n",
    "        parameters[\"b\" + str(l+1)] = parameters[\"b\" + str(l + 1)]- learning_rate*grads[\"db\" + str(l + 1)]\n",
    "    return parameters"
   ]
  },
  {
   "cell_type": "code",
   "execution_count": 41,
   "metadata": {},
   "outputs": [],
   "source": [
    "\n",
    "def neural_network(X, Y,layers_dims: list, num_iters: int, learning_rate=0.0075) -> (dict, list): \n",
    "    '''\n",
    "    X (ndarray, (n, m)): training data\n",
    "    Y (ndarray, (1, m)): ground true label\n",
    "    '''\n",
    "    np.random.seed(1)\n",
    "    parameters = initialize_parameters(layers_dims)\n",
    "    costs = []\n",
    "    \n",
    "    for i in range(num_iters):     \n",
    "        AL, caches = L_model_forward(X, parameters)\n",
    "        if i % 10 == 0: \n",
    "            costs.append(compute_cost(AL, Y))\n",
    "        grads = L_model_backward(AL, Y, caches)\n",
    "        parameters = update_parameters(parameters, grads, learning_rate=learning_rate)\n",
    "    return parameters, costs"
   ]
  },
  {
   "cell_type": "markdown",
   "metadata": {},
   "source": [
    "## Initializing parameters"
   ]
  },
  {
   "cell_type": "code",
   "execution_count": 42,
   "metadata": {},
   "outputs": [],
   "source": [
    "num_feautures = num_px**2 *3\n",
    "layers_dims = [12288, 25, 15, 8, 1] #  4-layer model\n",
    "num_iters = 1000"
   ]
  },
  {
   "cell_type": "code",
   "execution_count": 43,
   "metadata": {},
   "outputs": [],
   "source": [
    "parameters, costs = neural_network(X=X_train, Y=y_train, num_iters=num_iters, layers_dims=layers_dims)"
   ]
  },
  {
   "cell_type": "code",
   "execution_count": 61,
   "metadata": {},
   "outputs": [
    {
     "data": {
      "text/plain": [
       "[<matplotlib.lines.Line2D at 0x290c1e550>]"
      ]
     },
     "execution_count": 61,
     "metadata": {},
     "output_type": "execute_result"
    },
    {
     "data": {
      "image/png": "[encoded data removed]",
      "text/plain": [
       "<Figure size 640x480 with 1 Axes>"
      ]
     },
     "metadata": {},
     "output_type": "display_data"
    }
   ],
   "source": [
    "plt.xlabel('x*10= Step')\n",
    "plt.ylabel('Cost')\n",
    "plt.xlim(1, len(costs)+1)\n",
    "plt.plot(range(1, len(costs) + 1), costs) "
   ]
  },
  {
   "cell_type": "code",
   "execution_count": 75,
   "metadata": {},
   "outputs": [],
   "source": [
    "def predict(X, y, parameters, title='train'):\n",
    "    \"\"\"\n",
    "    This function is used to predict the results of a  L-layer neural network.\n",
    "    \n",
    "    Arguments:\n",
    "    X -- data set of examples you would like to label\n",
    "    parameters -- parameters of the trained model\n",
    "    \n",
    "    Returns:\n",
    "    p -- predictions for the given dataset X\n",
    "    \"\"\"\n",
    "    \n",
    "    m = X.shape[1]\n",
    "    n = len(parameters) // 2 # number of layers in the neural network\n",
    "    p = np.zeros((1,m), dtype=int)\n",
    "    \n",
    "    # Forward propagation\n",
    "    probas, caches = L_model_forward(X, parameters)\n",
    "\n",
    "    \n",
    "    # convert probas to 0/1 predictions\n",
    "    for i in range(0, probas.shape[1]):\n",
    "        if probas[0,i] > 0.5:\n",
    "            p[0,i] = 1\n",
    "        else:\n",
    "            p[0,i] = 0\n",
    "    \n",
    "    #print results\n",
    "    #print (\"predictions: \" + str(p))\n",
    "    #print (\"true labels: \" + str(y))\n",
    "    print(f\"Accuracy {title}: {str(np.sum((p == y)/m) * 100)}%\" )\n",
    "        \n",
    "    return p"
   ]
  },
  {
   "cell_type": "code",
   "execution_count": 76,
   "metadata": {},
   "outputs": [
    {
     "name": "stdout",
     "output_type": "stream",
     "text": [
      "Accuracy test: 78.0%\n",
      "Accuracy train: 98.5645933014354%\n"
     ]
    }
   ],
   "source": [
    "AL_test = predict(X_test, y_test, parameters, title='test')\n",
    "AL_train = predict(X_train, y_train, parameters, title='train')"
   ]
  },
  {
   "cell_type": "code",
   "execution_count": 77,
   "metadata": {},
   "outputs": [
    {
     "name": "stdout",
     "output_type": "stream",
     "text": [
      "[ 5  6 13 18 19 28 29 34 38 44 46]\n",
      "[[0 1 0 1 1 1 0 0 0 0 1]]\n",
      "[[1 0 1 0 0 0 1 1 1 1 0]]\n"
     ]
    }
   ],
   "source": [
    "differece =  y_test != AL_test\n",
    "wrong_prediction_indices = np.where(differece == True)[1]\n",
    "print(wrong_prediction_indices)\n",
    "print(y_test[:, wrong_prediction_indices])\n",
    "print(AL_test[:, wrong_prediction_indices])"
   ]
  },
  {
   "cell_type": "markdown",
   "metadata": {},
   "source": [
    "## Plot to see wrong prediction"
   ]
  },
  {
   "cell_type": "code",
   "execution_count": 99,
   "metadata": {},
   "outputs": [
    {
     "name": "stdout",
     "output_type": "stream",
     "text": [
      "model b'non-cat'\n",
      "Ground true label:  b'cat'\n"
     ]
    },
    {
     "data": {
      "image/png": "[encoded data removed]",
      "text/plain": [
       "<Figure size 640x480 with 1 Axes>"
      ]
     },
     "metadata": {},
     "output_type": "display_data"
    }
   ],
   "source": [
    "import random\n",
    "random_wrong_image_index = random.choice(wrong_prediction_indices)\n",
    "print( f'model {classes[AL_test[0, random_wrong_image_index]]}')\n",
    "print('Ground true label: ', classes[y_test[0, random_wrong_image_index]])\n",
    "image = X_test[:, random_wrong_image_index].reshape(num_px, num_px, 3)\n",
    "plt.title(label=f'model {classes[AL_test[0, random_wrong_image_index]]}, true label: {classes[y_test[0, random_wrong_image_index]]}')\n",
    "plt.imshow(image);\n"
   ]
  },
  {
   "cell_type": "code",
   "execution_count": null,
   "metadata": {},
   "outputs": [],
   "source": []
  },
  {
   "cell_type": "code",
   "execution_count": null,
   "metadata": {},
   "outputs": [],
   "source": []
  },
  {
   "cell_type": "code",
   "execution_count": null,
   "metadata": {},
   "outputs": [],
   "source": []
  }
 ],
 "metadata": {
  "kernelspec": {
   "display_name": "Python 3",
   "language": "python",
   "name": "python3"
  },
  "language_info": {
   "codemirror_mode": {
    "name": "ipython",
    "version": 3
   },
   "file_extension": ".py",
   "mimetype": "text/x-python",
   "name": "python",
   "nbconvert_exporter": "python",
   "pygments_lexer": "ipython3",
   "version": "3.8.18"
  }
 },
 "nbformat": 4,
 "nbformat_minor": 2
}
